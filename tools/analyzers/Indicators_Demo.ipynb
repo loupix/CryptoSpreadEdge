{
  "cells": [
    {
      "cell_type": "code",
      "execution_count": null,
      "metadata": {
        "vscode": {
          "languageId": "plaintext"
        }
      },
      "outputs": [],
      "source": [
        "# Demo rapide des indicateurs\n",
        "\n",
        "Ce notebook montre comment:\n",
        "- Calculer les indicateurs et bundles\n",
        "- Construire des features multi-timeframes\n",
        "- Aplatir et normaliser pour un modèle ML\n",
        "- Lancer un mini backtest prix-only\n"
      ]
    },
    {
      "cell_type": "code",
      "execution_count": null,
      "metadata": {},
      "outputs": [],
      "source": [
        "from src.ai.feature_engineering.indicators import compute_indicator_bundle\n",
        "from src.ai.feature_engineering.mtf_features import compute_mtf_bundle\n",
        "from src.ai.feature_engineering.feature_vector import flatten_indicator_bundle, apply_normalization, to_ordered_vector, FeatureSpec\n",
        "from src.ai.feature_engineering.backtest_indicators import backtest_price_only, BacktestConfig\n",
        "\n",
        "# Données factices minimalistes à remplacer par de vraies séries\n",
        "symbol = \"BTC\"\n",
        "platform_prices = {\n",
        "    \"binance\": {\"price\": 50000, \"bid\": 49990, \"ask\": 50010, \"volume\": 1200, \"timestamp\": __import__(\"datetime\").datetime.utcnow(), \"source\": \"exchange\"},\n",
        "    \"okx\": {\"price\": 50020, \"bid\": 50005, \"ask\": 50025, \"volume\": 900, \"timestamp\": __import__(\"datetime\").datetime.utcnow(), \"source\": \"exchange\"},\n",
        "    \"coingecko\": {\"price\": 50005, \"bid\": 50000, \"ask\": 50010, \"volume\": 2000, \"timestamp\": __import__(\"datetime\").datetime.utcnow(), \"source\": \"data_source\"}\n",
        "}\n",
        "price_history = [{\"price\": 50000 + i} for i in range(100)]\n",
        "spread_series = [0.5 for _ in range(60)]\n",
        "\n",
        "bundle = compute_indicator_bundle(symbol, platform_prices, \"binance\", \"okx\", spread_series, price_history)\n",
        "mtf = compute_mtf_bundle(symbol, platform_prices, \"binance\", \"okx\", spread_series, price_history)\n",
        "\n",
        "flat = flatten_indicator_bundle(bundle)\n",
        "specs = [FeatureSpec(name=\"momentum\", min_value=-0.1, max_value=0.1, center=0.0, scale=0.02)]\n",
        "norm = apply_normalization(flat, specs)\n",
        "names, vec = to_ordered_vector(norm)\n",
        "\n",
        "print(\"Features:\", list(flat.keys())[:5], \"...\")\n",
        "print(\"Vector size:\", len(vec))\n",
        "\n",
        "# Backtest factice\n",
        "cfg = BacktestConfig(entry_threshold=0.0, take_profit=0.005, stop_loss=0.005)\n",
        "res = backtest_price_only(symbol, [platform_prices]*50, \"binance\", \"okx\", [price_history]*50, [spread_series]*50, cfg)\n",
        "res\n"
      ]
    }
  ],
  "metadata": {
    "language_info": {
      "name": "python"
    }
  },
  "nbformat": 4,
  "nbformat_minor": 2
}
